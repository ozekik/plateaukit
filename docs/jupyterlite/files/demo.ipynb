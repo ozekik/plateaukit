{
 "cells": [
  {
   "cell_type": "code",
   "execution_count": null,
   "metadata": {},
   "outputs": [],
   "source": [
    "%pip install plateaukit==0.15.3"
   ]
  },
  {
   "cell_type": "code",
   "execution_count": null,
   "metadata": {},
   "outputs": [],
   "source": [
    "from plateaukit import load_dataset\n",
    "\n",
    "dataset = load_dataset(\"plateau-tokyo23ku-2022.cloud\")\n",
    "\n",
    "area = dataset.area_from_landmark(\"東京駅\")\n",
    "\n",
    "area.show()"
   ]
  }
 ],
 "metadata": {
  "language_info": {
   "codemirror_mode": {
    "name": "ipython",
    "version": 3
   },
   "file_extension": ".py",
   "mimetype": "text/x-python",
   "name": "python",
   "pygments_lexer": "ipython3"
  }
 },
 "nbformat": 4,
 "nbformat_minor": 5
}
